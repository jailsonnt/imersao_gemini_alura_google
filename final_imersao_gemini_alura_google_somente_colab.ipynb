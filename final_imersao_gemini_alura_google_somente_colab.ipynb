{
  "nbformat": 4,
  "nbformat_minor": 0,
  "metadata": {
    "colab": {
      "provenance": [],
      "authorship_tag": "ABX9TyPNTj757DVmKtBT/kM6Is3V",
      "include_colab_link": true
    },
    "kernelspec": {
      "name": "python3",
      "display_name": "Python 3"
    },
    "language_info": {
      "name": "python"
    }
  },
  "cells": [
    {
      "cell_type": "markdown",
      "metadata": {
        "id": "view-in-github",
        "colab_type": "text"
      },
      "source": [
        "<a href=\"https://colab.research.google.com/github/jailsonnt/imersao_gemini_alura_google/blob/main/final_imersao_gemini_alura_google_somente_colab.ipynb\" target=\"_parent\"><img src=\"https://colab.research.google.com/assets/colab-badge.svg\" alt=\"Open In Colab\"/></a>"
      ]
    },
    {
      "cell_type": "markdown",
      "source": [
        "Instala dependencia"
      ],
      "metadata": {
        "id": "Jv4IhfG_CWEK"
      }
    },
    {
      "cell_type": "code",
      "source": [
        "!pip install -U -q google-generativeai\n",
        "!pip install -U -q requests\n",
        "!pip install -U -q regex"
      ],
      "metadata": {
        "id": "MK4Atf7BB8_f"
      },
      "execution_count": null,
      "outputs": []
    },
    {
      "cell_type": "markdown",
      "source": [
        "Faz importações necessárias"
      ],
      "metadata": {
        "id": "10ClxMtCCPW3"
      }
    },
    {
      "cell_type": "code",
      "source": [
        "import google.generativeai as genai\n",
        "import requests\n",
        "import json\n",
        "import re"
      ],
      "metadata": {
        "id": "hLhaXR4XCO6_"
      },
      "execution_count": 16,
      "outputs": []
    },
    {
      "cell_type": "markdown",
      "source": [
        "Autentica a API"
      ],
      "metadata": {
        "id": "MUs9Jo1pE_1s"
      }
    },
    {
      "cell_type": "code",
      "source": [
        "print(\"Informe chave válida da API, a aplicação não irá funcionar se o valor inserido não for válido.\")\n",
        "GOOGLE_API_KEY = input(\"Insira a chave da API: \")\n",
        "genai.configure(api_key=GOOGLE_API_KEY)\n",
        "print(f\"chave {GOOGLE_API_KEY} definida\")"
      ],
      "metadata": {
        "id": "oczEBuLFCzGB"
      },
      "execution_count": null,
      "outputs": []
    },
    {
      "cell_type": "markdown",
      "source": [
        "Definições e configurações do modelo"
      ],
      "metadata": {
        "id": "7nA9gmNbFsOJ"
      }
    },
    {
      "cell_type": "code",
      "source": [
        "model_name =\"gemini-1.5-pro-latest\"\n",
        "generation_config = {\n",
        "  \"temperature\": 1\n",
        "}\n",
        "\n",
        "safety_settings = [\n",
        "  {\n",
        "    \"category\": \"HARM_CATEGORY_HARASSMENT\",\n",
        "    \"threshold\": \"BLOCK_MEDIUM_AND_ABOVE\"\n",
        "  },\n",
        "  {\n",
        "    \"category\": \"HARM_CATEGORY_HATE_SPEECH\",\n",
        "    \"threshold\": \"BLOCK_MEDIUM_AND_ABOVE\"\n",
        "  },\n",
        "  {\n",
        "    \"category\": \"HARM_CATEGORY_SEXUALLY_EXPLICIT\",\n",
        "    \"threshold\": \"BLOCK_MEDIUM_AND_ABOVE\"\n",
        "  },\n",
        "  {\n",
        "    \"category\": \"HARM_CATEGORY_DANGEROUS_CONTENT\",\n",
        "    \"threshold\": \"BLOCK_MEDIUM_AND_ABOVE\"\n",
        "  },\n",
        "]"
      ],
      "metadata": {
        "id": "Bp3ZMQzIFv97"
      },
      "execution_count": 18,
      "outputs": []
    },
    {
      "cell_type": "markdown",
      "source": [
        "Definição do prompt principal"
      ],
      "metadata": {
        "id": "6Ze9nAVVGGTG"
      }
    },
    {
      "cell_type": "code",
      "source": [
        "prompt = \"Você é um assistente virtual, seu nome é \\\"Iamiga\\\" com o objetivo de identificar tipos de estabelecimento de interesse para o usúario no momento, após algumas perguntas você irá responder no formato lista de json no formato especificado em \\\"Modelo resposta\\\", converse com o usuário para conhecer os gostos do usuario oque quer e após isso sugira o tipo de estabelecimento para buscar no google. Para sugerir a experiencia é importante perguntar se o usúario está sozinho ou acompanhado. Descubra também o endereço aproximado do usuário, descubra no mínimo a cidade mas deixe claro que as sugestões serão melhores se o endereço for mais exato, esse endereço será utilizado na api places do google. Todas as respostas precisam seguir o formato do \\\"Modelo resposta\\\", nesse modelo a resposta que encaminharei para o usuário em formato de texto simples deve estar no campo, \\\"proxima_mensagem\\\", a partir do momento que houver sugestoes de locais preencha o campo \\\"buscas\\\".\\n\\nModelo resposta:\\n{\\\"response\\\":{\\\"proxima_mensagem\\\":\\\"resposta da AI\\\", \\\"endereco\\\": \\\"endereco aproximado\\\", \\\"buscas\\\": [{\\\"tipo_google\\\": \\\"lawyer\\\", \\\"tipo\\\":\\\"advogado criminalista\\\" }, {\\\"tipo_google\\\": \\\"bar\\\", \\\"tipo\\\":\\\"boate\\\" }]}\\n\\nNesse modelo o \\\"tipo_google\\\" precisa ser um ítem de \\\"tipo_google_list\\\"\\ntipo_google_list: [\\n  \\\"accounting\\\",\\n  \\\"airport\\\",\\n  \\\"amusement_park\\\",\\n  \\\"aquarium\\\",\\n  \\\"art_gallery\\\",\\n  \\\"atm\\\",\\n  \\\"bakery\\\",\\n  \\\"bank\\\",\\n  \\\"bar\\\",\\n  \\\"beauty_salon\\\",\\n  \\\"bicycle_store\\\",\\n  \\\"book_store\\\",\\n  \\\"bowling_alley\\\",\\n  \\\"bus_station\\\",\\n  \\\"cafe\\\",\\n  \\\"campground\\\",\\n  \\\"car_dealer\\\",\\n  \\\"car_rental\\\",\\n  \\\"car_repair\\\",\\n  \\\"car_wash\\\",\\n  \\\"casino\\\",\\n  \\\"cemetery\\\",\\n  \\\"church\\\",\\n  \\\"city_hall\\\",\\n  \\\"clothing_store\\\",\\n  \\\"convenience_store\\\",\\n  \\\"courthouse\\\",\\n  \\\"dentist\\\",\\n  \\\"department_store\\\",\\n  \\\"doctor\\\",\\n  \\\"drugstore\\\",\\n  \\\"electrician\\\",\\n  \\\"electronics_store\\\",\\n  \\\"embassy\\\",\\n  \\\"fire_station\\\",\\n  \\\"florist\\\",\\n  \\\"funeral_home\\\",\\n  \\\"furniture_store\\\",\\n  \\\"gas_station\\\",\\n  \\\"gym\\\",\\n  \\\"hair_care\\\",\\n  \\\"hardware_store\\\",\\n  \\\"hindu_temple\\\",\\n  \\\"home_goods_store\\\",\\n  \\\"hospital\\\",\\n  \\\"insurance_agency\\\",\\n  \\\"jewelry_store\\\",\\n  \\\"laundry\\\",\\n  \\\"lawyer\\\",\\n  \\\"library\\\",\\n  \\\"light_rail_station\\\",\\n  \\\"liquor_store\\\",\\n  \\\"local_government_office\\\",\\n  \\\"locksmith\\\",\\n  \\\"lodging\\\",\\n  \\\"meal_delivery\\\",\\n  \\\"meal_takeaway\\\",\\n  \\\"mosque\\\",\\n  \\\"movie_rental\\\",\\n  \\\"movie_theater\\\",\\n  \\\"moving_company\\\",\\n  \\\"museum\\\",\\n  \\\"night_club\\\",\\n  \\\"painter\\\",\\n  \\\"park\\\",\\n  \\\"parking\\\",\\n  \\\"pet_store\\\",\\n  \\\"pharmacy\\\",\\n  \\\"physiotherapist\\\",\\n  \\\"plumber\\\",\\n  \\\"police\\\",\\n  \\\"post_office\\\",\\n  \\\"primary_school\\\",\\n  \\\"real_estate_agency\\\",\\n  \\\"restaurant\\\",\\n  \\\"roofing_contractor\\\",\\n  \\\"rv_park\\\",\\n  \\\"school\\\",\\n  \\\"secondary_school\\\",\\n  \\\"shoe_store\\\",\\n  \\\"shopping_mall\\\",\\n  \\\"spa\\\",\\n  \\\"stadium\\\",\\n  \\\"storage\\\",\\n  \\\"store\\\",\\n  \\\"subway_station\\\",\\n  \\\"supermarket\\\",\\n  \\\"synagogue\\\",\\n  \\\"taxi_stand\\\",\\n  \\\"tourist_attraction\\\",\\n  \\\"train_station\\\",\\n  \\\"transit_station\\\",\\n  \\\"travel_agency\\\",\\n  \\\"university\\\",\\n  \\\"veterinary_care\\\",\\n  \\\"zoo\\\"\\n]\\n\\n\""
      ],
      "metadata": {
        "id": "9kKt_1tOGOhB"
      },
      "execution_count": 19,
      "outputs": []
    },
    {
      "cell_type": "markdown",
      "source": [
        "Inicialização do modelo"
      ],
      "metadata": {
        "id": "P33-OGFqGvKb"
      }
    },
    {
      "cell_type": "code",
      "execution_count": 20,
      "metadata": {
        "id": "f8XP2h6ABmpq"
      },
      "outputs": [],
      "source": [
        "model = genai.GenerativeModel(model_name=model_name,\n",
        "                              generation_config=generation_config,\n",
        "                              system_instruction=prompt,\n",
        "                              safety_settings=safety_settings)"
      ]
    },
    {
      "cell_type": "markdown",
      "source": [
        "Inicia chat"
      ],
      "metadata": {
        "id": "VpzV7_XvG4JD"
      }
    },
    {
      "cell_type": "code",
      "source": [
        "chat = model.start_chat(history=[])"
      ],
      "metadata": {
        "id": "0HiOqFbJG80E"
      },
      "execution_count": 21,
      "outputs": []
    },
    {
      "cell_type": "markdown",
      "source": [
        "Executa a busca na api Places do google, para isso criei uma funcao no google cloud"
      ],
      "metadata": {
        "id": "tOcZ7zwQ7gj_"
      }
    },
    {
      "cell_type": "code",
      "source": [
        "def search_places(gemini_response):\n",
        "  url = 'https://us-central1-botlistae-teste.cloudfunctions.net/search_places_for_gemini'\n",
        "  response = requests.post(url, json=gemini_response)\n",
        "  if response.status_code == 200:\n",
        "    return response.json()\n",
        "  else:\n",
        "    return None"
      ],
      "metadata": {
        "id": "1bUhmva25Jo9"
      },
      "execution_count": 22,
      "outputs": []
    },
    {
      "cell_type": "markdown",
      "source": [
        "Apresenta resposta após consulta na API places"
      ],
      "metadata": {
        "id": "8AZYGj7c8EuC"
      }
    },
    {
      "cell_type": "code",
      "source": [
        "def print_places(places):\n",
        "  for place in places:\n",
        "    print(\"########################\")\n",
        "    print(place.get('nome', None))\n",
        "    print(place.get('telefone', None))\n",
        "    print(place.get('endereco', None))\n",
        "    print(place.get('url_gmaps', None))\n",
        "    print(place.get('site', None))"
      ],
      "metadata": {
        "id": "kZgsdd3h8Tmg"
      },
      "execution_count": 23,
      "outputs": []
    },
    {
      "cell_type": "markdown",
      "source": [
        "Avalia se deve chamar places ou continuar conversa"
      ],
      "metadata": {
        "id": "7YOrnUs09g4w"
      }
    },
    {
      "cell_type": "code",
      "source": [
        "def should_search_places(gemini_response):\n",
        "  # Verificar se 'buscas' está preenchido\n",
        "  if 'buscas' in gemini_response['response'] and gemini_response['response']['buscas'] and 'endereco' in gemini_response['response'] and gemini_response['response']['endereco']:\n",
        "    return True\n",
        "  else:\n",
        "    return False\n"
      ],
      "metadata": {
        "id": "CnQA1ti89gW5"
      },
      "execution_count": 24,
      "outputs": []
    },
    {
      "cell_type": "code",
      "source": [
        "resposta = input(\"Esperando resposta: \")\n",
        "try:\n",
        "  while resposta != \"fim\":\n",
        "    response_string = chat.send_message(resposta).text\n",
        "    padrao = r'{\"response\":{.*?}}'\n",
        "    resultados = re.findall(padrao, response_string)\n",
        "    if resultados:\n",
        "      json_encontrado = resultados[0]\n",
        "      response = json.loads(json_encontrado)\n",
        "      if should_search_places(response):\n",
        "        places = search_places(response)\n",
        "        print_places(places)\n",
        "        break\n",
        "      else:\n",
        "        print(\"Iamiga responde: \", response['response'].get('proxima_mensagem', None))\n",
        "        resposta = input(\"Esperando resposta: \")\n",
        "except json.JSONDecodeError as e:\n",
        "  print(\"Erro ao decodificar JSON. Resposta inválida: \", e)"
      ],
      "metadata": {
        "id": "UHRhuTCtHPMJ"
      },
      "execution_count": null,
      "outputs": []
    },
    {
      "cell_type": "code",
      "source": [],
      "metadata": {
        "id": "xzd57IojAWzq"
      },
      "execution_count": null,
      "outputs": []
    }
  ]
}